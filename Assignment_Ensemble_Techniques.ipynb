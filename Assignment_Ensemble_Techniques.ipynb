{
  "nbformat": 4,
  "nbformat_minor": 0,
  "metadata": {
    "colab": {
      "provenance": []
    },
    "kernelspec": {
      "name": "python3",
      "display_name": "Python 3"
    },
    "language_info": {
      "name": "python"
    }
  },
  "cells": [
    {
      "cell_type": "markdown",
      "source": [
        "#Ensemble Techniques:"
      ],
      "metadata": {
        "id": "-yJi28TdzSBJ"
      }
    },
    {
      "cell_type": "markdown",
      "source": [
        "#Theory:-"
      ],
      "metadata": {
        "id": "Fq9Sz2qazUZx"
      }
    },
    {
      "cell_type": "markdown",
      "source": [
        "1. Can we use Bagging for regression problems\n",
        " - Yes, Bagging can be used for regression by using BaggingRegressor with base regressors like DecisionTreeRegressor.\n",
        "\n",
        "2. What is the difference between multiple model training and single model training\n",
        " - Single model training involves training one algorithm, while multiple model training (ensemble) combines predictions from several models for improved accuracy.\n",
        "\n",
        "3. Explain the concept of feature randomness in Random Forest\n",
        " - In Random Forest, at each split, a random subset of features is selected to determine the best split, promoting diversity.\n",
        "\n",
        "4. What is OOB (Out-of-Bag) Score\n",
        " - It is an internal validation score computed using data not included in the bootstrap sample for each tree.\n",
        "\n",
        "5. How can you measure the importance of features in a Random Forest model\n",
        " - Feature importance is computed by measuring how much each feature decreases impurity (e.g., Gini) across all trees.\n",
        "\n",
        "6. Explain the working principle of a Bagging Classifier\n",
        " - Bagging creates multiple bootstrap datasets, trains a base classifier on each, and combines their predictions via majority voting.\n",
        "\n",
        "7. How do you evaluate a Bagging Classifier’s performance\n",
        " - By computing metrics like accuracy, precision, recall, or AUC on test data or using cross-validation.\n",
        "\n",
        "8. How does a Bagging Regressor work\n",
        " - Similar to Bagging Classifier, but predictions from base regressors are averaged.\n",
        "\n",
        "9. What is the main advantage of ensemble techniques\n",
        " - Improved accuracy and robustness by reducing variance and avoiding overfitting.\n",
        "\n",
        "10. What is the main challenge of ensemble methods\n",
        " - Complexity in model interpretation and increased computational cost.\n",
        "\n",
        "11. Explain the key idea behind ensemble techniques\n",
        " - Combine multiple models to form a stronger overall model.\n",
        "\n",
        "12. What is a Random Forest Classifier\n",
        " - An ensemble of Decision Trees trained via Bagging, with added feature randomness.\n",
        "\n",
        "13. What are the main types of ensemble techniques\n",
        " - Bagging, Boosting, Stacking, Voting.\n",
        "\n",
        "14. What is ensemble learning in machine learning\n",
        " - A technique that combines predictions from multiple models to improve performance.\n",
        "\n",
        "15. When should we avoid using ensemble methods\n",
        " - When interpretability is critical, or if computational resources are limited.\n",
        "\n",
        "16. How does Bagging help in reducing overfitting\n",
        " - By averaging multiple models trained on different data subsets, variance is reduced.\n",
        "\n",
        "17. Why is Random Forest better than a single Decision Tree\n",
        " - It reduces overfitting and increases generalization by aggregating multiple diverse trees.\n",
        "\n",
        "18. What is the role of bootstrap sampling in Bagging\n",
        " - It ensures each model is trained on a different random subset of the data.\n",
        "\n",
        "19. What are some real-world applications of ensemble techniques\n",
        " - Fraud detection, credit scoring, recommendation systems, medical diagnosis.\n",
        "\n",
        "20. What is the difference between Bagging and Boosting?\n",
        " - Bagging trains models independently in parallel; Boosting trains models sequentially to correct errors of prior models."
      ],
      "metadata": {
        "id": "_lx7CAwRzWP9"
      }
    },
    {
      "cell_type": "markdown",
      "source": [
        "#Practicals:-"
      ],
      "metadata": {
        "id": "k0qkhOUj0Sjf"
      }
    },
    {
      "cell_type": "code",
      "source": [
        "#21.Train a Bagging Classifier using Decision Trees on a sample dataset and print model accuracy.\n",
        "from sklearn.datasets import load_iris\n",
        "from sklearn.model_selection import train_test_split\n",
        "from sklearn.tree import DecisionTreeClassifier\n",
        "from sklearn.ensemble import BaggingClassifier\n",
        "from sklearn.metrics import accuracy_score\n",
        "\n",
        "# Load sample dataset (Iris)\n",
        "iris = load_iris()\n",
        "X, y = iris.data, iris.target\n",
        "\n",
        "# Split the dataset\n",
        "X_train, X_test, y_train, y_test = train_test_split(X, y, test_size=0.3, random_state=42)\n",
        "\n",
        "# Define base estimator\n",
        "base_dt = DecisionTreeClassifier()\n",
        "\n",
        "# Create Bagging Classifier\n",
        "bagging_clf = BaggingClassifier(estimator=base_dt, n_estimators=10, random_state=42)\n",
        "\n",
        "# Train the model\n",
        "bagging_clf.fit(X_train, y_train)\n",
        "\n",
        "# Predict on the test set\n",
        "y_pred = bagging_clf.predict(X_test)\n",
        "\n",
        "# Calculate and print accuracy\n",
        "accuracy = accuracy_score(y_test, y_pred)\n",
        "print(f\"Model Accuracy: {accuracy:.2f}\")"
      ],
      "metadata": {
        "colab": {
          "base_uri": "https://localhost:8080/"
        },
        "id": "lZAibUy114Si",
        "outputId": "1ff2d1c4-7011-4bf5-ee8c-377ce7c5caf5"
      },
      "execution_count": 8,
      "outputs": [
        {
          "output_type": "stream",
          "name": "stdout",
          "text": [
            "Model Accuracy: 1.00\n"
          ]
        }
      ]
    },
    {
      "cell_type": "code",
      "source": [
        "#22.Train a Bagging Regressor using Decision Trees and evaluate using Mean Squared Error (MSE)2\n",
        "from sklearn.datasets import fetch_california_housing\n",
        "from sklearn.model_selection import train_test_split\n",
        "from sklearn.tree import DecisionTreeRegressor\n",
        "from sklearn.ensemble import BaggingRegressor\n",
        "from sklearn.metrics import mean_squared_error\n",
        "\n",
        "\n",
        "data = fetch_california_housing()\n",
        "X, y = data.data, data.target\n",
        "X_train, X_test, y_train, y_test = train_test_split(X, y, test_size=0.3, random_state=42)\n",
        "\n",
        "bag_reg = BaggingRegressor(estimator=DecisionTreeRegressor(), n_estimators=10, random_state=42)\n",
        "bag_reg.fit(X_train, y_train)\n",
        "mse = mean_squared_error(y_test, bag_reg.predict(X_test))\n",
        "print(\"1. Bagging Regressor MSE:\", round(mse, 4))"
      ],
      "metadata": {
        "colab": {
          "base_uri": "https://localhost:8080/"
        },
        "id": "ZzKm0vsF32wm",
        "outputId": "e8df1773-35e6-4d50-88c1-a6994db3582f"
      },
      "execution_count": 14,
      "outputs": [
        {
          "output_type": "stream",
          "name": "stdout",
          "text": [
            "1. Bagging Regressor MSE: 0.2862\n"
          ]
        }
      ]
    },
    {
      "cell_type": "code",
      "source": [
        "#23.Train a Random Forest Classifier on the Breast Cancer dataset and print feature importance scores.\n",
        "from sklearn.datasets import load_breast_cancer\n",
        "from sklearn.ensemble import RandomForestClassifier\n",
        "import pandas as pd\n",
        "\n",
        "# Load data\n",
        "data = load_breast_cancer()\n",
        "X, y = data.data, data.target\n",
        "\n",
        "# Train Random Forest\n",
        "rf = RandomForestClassifier(n_estimators=100, random_state=42)\n",
        "rf.fit(X, y)\n",
        "\n",
        "# Feature importance\n",
        "importances = rf.feature_importances_\n",
        "feature_names = data.feature_names\n",
        "importance_df = pd.DataFrame({'Feature': feature_names, 'Importance': importances})\n",
        "print(importance_df.sort_values(by='Importance', ascending=False).head())"
      ],
      "metadata": {
        "colab": {
          "base_uri": "https://localhost:8080/"
        },
        "id": "ymvtKO2n3-gp",
        "outputId": "36e933ea-6f5d-40e3-cd52-a97f8ea936fc"
      },
      "execution_count": 15,
      "outputs": [
        {
          "output_type": "stream",
          "name": "stdout",
          "text": [
            "                 Feature  Importance\n",
            "23            worst area    0.139357\n",
            "27  worst concave points    0.132225\n",
            "7    mean concave points    0.107046\n",
            "20          worst radius    0.082848\n",
            "22       worst perimeter    0.080850\n"
          ]
        }
      ]
    },
    {
      "cell_type": "code",
      "source": [
        "#24.Train a Random Forest Regressor and compare its performance with a single Decision Tree.\n",
        "from sklearn.ensemble import RandomForestRegressor\n",
        "from sklearn.metrics import mean_squared_error\n",
        "\n",
        "# Train models\n",
        "tree = DecisionTreeRegressor(random_state=42)\n",
        "forest = RandomForestRegressor(n_estimators=100, random_state=42)\n",
        "\n",
        "tree.fit(X_train, y_train)\n",
        "forest.fit(X_train, y_train)\n",
        "\n",
        "# Predictions\n",
        "tree_pred = tree.predict(X_test)\n",
        "forest_pred = forest.predict(X_test)\n",
        "\n",
        "# Compare MSE\n",
        "tree_mse = mean_squared_error(y_test, tree_pred)\n",
        "forest_mse = mean_squared_error(y_test, forest_pred)\n",
        "\n",
        "print(f\"Decision Tree MSE: {tree_mse:.2f}\")\n",
        "print(f\"Random Forest MSE: {forest_mse:.2f}\")"
      ],
      "metadata": {
        "colab": {
          "base_uri": "https://localhost:8080/"
        },
        "id": "jJwiClSV4W_B",
        "outputId": "fc2600aa-b333-498c-e868-179bd3753357"
      },
      "execution_count": 16,
      "outputs": [
        {
          "output_type": "stream",
          "name": "stdout",
          "text": [
            "Decision Tree MSE: 0.53\n",
            "Random Forest MSE: 0.26\n"
          ]
        }
      ]
    },
    {
      "cell_type": "code",
      "source": [
        "#25.Compute the Out-of-Bag (OOB) Score for a Random Forest Classifier.\n",
        "rf_oob = RandomForestClassifier(n_estimators=100, oob_score=True, random_state=42)\n",
        "rf_oob.fit(X, y)\n",
        "print(f\"OOB Score: {rf_oob.oob_score_:.2f}\")"
      ],
      "metadata": {
        "colab": {
          "base_uri": "https://localhost:8080/"
        },
        "id": "LCj2QilL4ex8",
        "outputId": "34010cc7-7c34-44c9-992e-3429c58b8d75"
      },
      "execution_count": 17,
      "outputs": [
        {
          "output_type": "stream",
          "name": "stdout",
          "text": [
            "OOB Score: 0.96\n"
          ]
        }
      ]
    },
    {
      "cell_type": "code",
      "source": [
        "#26.Train a Bagging Classifier using SVM as a base estimator and print accuracy.\n",
        "from sklearn.svm import SVC\n",
        "from sklearn.ensemble import BaggingClassifier\n",
        "from sklearn.metrics import accuracy_score\n",
        "\n",
        "# Use smaller subset to speed up SVM\n",
        "X_small, _, y_small, _ = train_test_split(X, y, train_size=0.3, random_state=42)\n",
        "\n",
        "# Train Bagging with SVM\n",
        "bag_svm = BaggingClassifier(estimator=SVC(probability=True), n_estimators=10, random_state=42)\n",
        "X_train, X_test, y_train, y_test = train_test_split(X_small, y_small, test_size=0.3, random_state=42)\n",
        "bag_svm.fit(X_train, y_train)\n",
        "y_pred = bag_svm.predict(X_test)\n",
        "print(f\"Bagging SVM Accuracy: {accuracy_score(y_test, y_pred):.2f}\")"
      ],
      "metadata": {
        "colab": {
          "base_uri": "https://localhost:8080/"
        },
        "id": "HoTEA2IW4mPT",
        "outputId": "0873b553-21b9-4f81-a0a8-5a6cdc8a30bd"
      },
      "execution_count": 18,
      "outputs": [
        {
          "output_type": "stream",
          "name": "stdout",
          "text": [
            "Bagging SVM Accuracy: 0.92\n"
          ]
        }
      ]
    },
    {
      "cell_type": "code",
      "source": [
        "#27.Train a Random Forest Classifier with different numbers of trees and compare accuracy.\n",
        "import matplotlib.pyplot as plt\n",
        "\n",
        "accuracies = []\n",
        "tree_counts = [5, 10, 50, 100, 200]\n",
        "\n",
        "for n in tree_counts:\n",
        "    model = RandomForestClassifier(n_estimators=n, random_state=42)\n",
        "    model.fit(X_train, y_train)\n",
        "    acc = model.score(X_test, y_test)\n",
        "    accuracies.append(acc)\n",
        "    print(f\"{n} Trees: Accuracy = {acc:.2f}\")\n",
        "\n",
        "# Optional: plot results\n",
        "plt.plot(tree_counts, accuracies, marker='o')\n",
        "plt.title(\"Accuracy vs Number of Trees\")\n",
        "plt.xlabel(\"Number of Trees\")\n",
        "plt.ylabel(\"Accuracy\")\n",
        "plt.grid(True)\n",
        "plt.show()"
      ],
      "metadata": {
        "colab": {
          "base_uri": "https://localhost:8080/",
          "height": 563
        },
        "id": "_qXF0kKd4sSI",
        "outputId": "c5306d8f-bbaa-4ccb-e1d1-ac5fa85de394"
      },
      "execution_count": 19,
      "outputs": [
        {
          "output_type": "stream",
          "name": "stdout",
          "text": [
            "5 Trees: Accuracy = 0.92\n",
            "10 Trees: Accuracy = 0.98\n",
            "50 Trees: Accuracy = 0.96\n",
            "100 Trees: Accuracy = 0.96\n",
            "200 Trees: Accuracy = 0.98\n"
          ]
        },
        {
          "output_type": "display_data",
          "data": {
            "text/plain": [
              "<Figure size 640x480 with 1 Axes>"
            ],
            "image/png": "[encoded data removed]"
          },
          "metadata": {}
        }
      ]
    },
    {
      "cell_type": "code",
      "source": [
        "#28.Train a Bagging Classifier using Logistic Regression as a base estimator and print AUC score.\n",
        "from sklearn.datasets import load_breast_cancer\n",
        "from sklearn.model_selection import train_test_split\n",
        "from sklearn.linear_model import LogisticRegression\n",
        "from sklearn.ensemble import BaggingClassifier\n",
        "from sklearn.metrics import roc_auc_score\n",
        "\n",
        "# Load the dataset\n",
        "X, y = load_breast_cancer(return_X_y=True)\n",
        "\n",
        "# Split into training and test sets\n",
        "X_train, X_test, y_train, y_test = train_test_split(\n",
        "    X, y, test_size=0.3, random_state=42\n",
        ")\n",
        "\n",
        "# Create a BaggingClassifier using Logistic Regression as base estimator\n",
        "bagging_clf = BaggingClassifier(\n",
        "    estimator=LogisticRegression(max_iter=1000),\n",
        "    n_estimators=50,\n",
        "    random_state=42\n",
        ")\n",
        "\n",
        "# Train the model\n",
        "bagging_clf.fit(X_train, y_train)\n",
        "\n",
        "# Predict probabilities for the positive class\n",
        "y_proba = bagging_clf.predict_proba(X_test)[:, 1]\n",
        "\n",
        "# Calculate AUC score\n",
        "auc = roc_auc_score(y_test, y_proba)\n",
        "\n",
        "print(\"AUC Score:\", round(auc, 4))"
      ],
      "metadata": {
        "colab": {
          "base_uri": "https://localhost:8080/"
        },
        "id": "hSYxUWqR9BXe",
        "outputId": "759074c3-6ea8-4dee-dc82-f16a1b23bd0d"
      },
      "execution_count": 51,
      "outputs": [
        {
          "output_type": "stream",
          "name": "stdout",
          "text": [
            "AUC Score: 0.9982\n"
          ]
        }
      ]
    },
    {
      "cell_type": "code",
      "source": [
        "#29.Train a Random Forest Regressor and analyze feature importance scores.\n",
        "rf_reg = RandomForestRegressor(n_estimators=100, random_state=42)\n",
        "rf_reg.fit(X_train, y_train)\n",
        "importances = rf_reg.feature_importances_\n",
        "importance_df = pd.DataFrame({'Feature': data.feature_names, 'Importance': importances})\n",
        "print(importance_df.sort_values(by='Importance', ascending=False).head())"
      ],
      "metadata": {
        "colab": {
          "base_uri": "https://localhost:8080/"
        },
        "id": "r5M3CbV75F7Q",
        "outputId": "6b89d1e3-13f2-49c3-a27c-dd031b14a724"
      },
      "execution_count": 21,
      "outputs": [
        {
          "output_type": "stream",
          "name": "stdout",
          "text": [
            "                 Feature  Importance\n",
            "7    mean concave points    0.387641\n",
            "27  worst concave points    0.229101\n",
            "22       worst perimeter    0.121435\n",
            "23            worst area    0.058610\n",
            "20          worst radius    0.041910\n"
          ]
        }
      ]
    },
    {
      "cell_type": "code",
      "source": [
        "#30.Train an ensemble model using both Bagging and Random Forest and compare accuracy.\n",
        "# Bagging\n",
        "bag_model = BaggingClassifier(estimator=DecisionTreeClassifier(), n_estimators=100, random_state=42)\n",
        "bag_model.fit(X_train, y_train)\n",
        "bag_acc = bag_model.score(X_test, y_test)\n",
        "\n",
        "# Random Forest\n",
        "rf_model = RandomForestClassifier(n_estimators=100, random_state=42)\n",
        "rf_model.fit(X_train, y_train)\n",
        "rf_acc = rf_model.score(X_test, y_test)\n",
        "\n",
        "print(f\"Bagging Accuracy: {bag_acc:.2f}\")\n",
        "print(f\"Random Forest Accuracy: {rf_acc:.2f}\")"
      ],
      "metadata": {
        "colab": {
          "base_uri": "https://localhost:8080/"
        },
        "id": "12Jn2yqj5Ogh",
        "outputId": "2eb8c10e-3518-4e8c-e4e4-a61f100d16aa"
      },
      "execution_count": 22,
      "outputs": [
        {
          "output_type": "stream",
          "name": "stdout",
          "text": [
            "Bagging Accuracy: 0.96\n",
            "Random Forest Accuracy: 0.97\n"
          ]
        }
      ]
    },
    {
      "cell_type": "code",
      "source": [
        "#31.Train a Random Forest Classifier and tune hyperparameters using GridSearchCV.\n",
        "from sklearn.model_selection import GridSearchCV\n",
        "from sklearn.datasets import load_breast_cancer\n",
        "from sklearn.ensemble import RandomForestClassifier\n",
        "from sklearn.model_selection import train_test_split\n",
        "\n",
        "data = load_breast_cancer()\n",
        "X, y = data.data, data.target\n",
        "X_train, X_test, y_train, y_test = train_test_split(X, y, random_state=42, test_size=0.3)\n",
        "\n",
        "param_grid = {'n_estimators': [50, 100], 'max_depth': [None, 5, 10], 'min_samples_split': [2, 5]}\n",
        "rf = RandomForestClassifier(random_state=42)\n",
        "search = GridSearchCV(rf, param_grid, cv=5, scoring='accuracy')\n",
        "search.fit(X_train, y_train)\n",
        "\n",
        "print(\"Best Params:\", search.best_params_)\n",
        "print(\"Best CV Accuracy:\", round(search.best_score_, 4))\n",
        "print(\"Test Accuracy:\", round(search.score(X_test, y_test), 4))"
      ],
      "metadata": {
        "colab": {
          "base_uri": "https://localhost:8080/"
        },
        "id": "rmsV8iti5TrX",
        "outputId": "8a8c0f9e-1ba5-44a7-b284-1b4e94dae165"
      },
      "execution_count": 25,
      "outputs": [
        {
          "output_type": "stream",
          "name": "stdout",
          "text": [
            "Best Params: {'max_depth': None, 'min_samples_split': 5, 'n_estimators': 100}\n",
            "Best CV Accuracy: 0.9497\n",
            "Test Accuracy: 0.9591\n"
          ]
        }
      ]
    },
    {
      "cell_type": "code",
      "source": [
        "#32.Train a Bagging Regressor with different numbers of base estimators and compare performance.\n",
        "housing = fetch_california_housing()\n",
        "Xr, yr = housing.data, housing.target\n",
        "Xtr, Xte, ytr, yte = train_test_split(Xr, yr, test_size=0.3, random_state=42)\n",
        "\n",
        "for n in [5, 10, 50, 100]:\n",
        "    bag = BaggingRegressor(DecisionTreeRegressor(), n_estimators=n, random_state=42)\n",
        "    bag.fit(Xtr, ytr)\n",
        "    mse = mean_squared_error(yte, bag.predict(Xte))\n",
        "    print(f\"{n} estimators → MSE: {round(mse, 4)}\")"
      ],
      "metadata": {
        "colab": {
          "base_uri": "https://localhost:8080/"
        },
        "id": "N5A7nbgR6TIY",
        "outputId": "dc36b814-a915-4553-bfef-9f3cb6ff77f8"
      },
      "execution_count": 26,
      "outputs": [
        {
          "output_type": "stream",
          "name": "stdout",
          "text": [
            "5 estimators → MSE: 0.3168\n",
            "10 estimators → MSE: 0.2862\n",
            "50 estimators → MSE: 0.2579\n",
            "100 estimators → MSE: 0.2568\n"
          ]
        }
      ]
    },
    {
      "cell_type": "code",
      "source": [
        "#33.Train a Random Forest Classifier and analyze misclassified samples.\n",
        "import numpy as np\n",
        "from sklearn.ensemble import RandomForestClassifier\n",
        "from sklearn.model_selection import train_test_split\n",
        "from sklearn.datasets import load_breast_cancer # Import the dataset\n",
        "\n",
        "# Load data if not already loaded\n",
        "try:\n",
        "    X\n",
        "    y\n",
        "except NameError:\n",
        "    data = load_breast_cancer()\n",
        "    X, y = data.data, data.target\n",
        "    # Split data if not already split (using the same split from previous cells for consistency)\n",
        "    X_train, X_test, y_train, y_test = train_test_split(X, y, random_state=42, test_size=0.3)\n",
        "\n",
        "\n",
        "rfc = RandomForestClassifier(n_estimators=100, random_state=42)\n",
        "rfc.fit(X_train, y_train)\n",
        "pred = rfc.predict(X_test)\n",
        "mis = np.where(pred != y_test)[0]\n",
        "print(\"Misclassified indices:\", mis[:10])\n",
        "print(\"True vs Pred:\", list(zip(y_test[mis[:5]], pred[mis[:5]])))"
      ],
      "metadata": {
        "colab": {
          "base_uri": "https://localhost:8080/"
        },
        "id": "44tUC1hS6YWZ",
        "outputId": "47ca8412-3a19-46f9-cecf-7220cb6e2cb2"
      },
      "execution_count": 30,
      "outputs": [
        {
          "output_type": "stream",
          "name": "stdout",
          "text": [
            "Misclassified indices: [  8  20  77  82 164]\n",
            "True vs Pred: [(np.int64(1), np.int64(0)), (np.int64(0), np.int64(1)), (np.int64(0), np.int64(1)), (np.int64(0), np.int64(1)), (np.int64(0), np.int64(1))]\n"
          ]
        }
      ]
    },
    {
      "cell_type": "code",
      "source": [
        "#34.Train a Bagging Classifier and compare its performance with a single Decision Tree Classifier.\n",
        "X4, y4 = load_iris(return_X_y=True)\n",
        "Xt4, Xv4, yt4, yv4 = train_test_split(X4, y4, test_size=0.3, random_state=42)\n",
        "\n",
        "dt = DecisionTreeClassifier(random_state=42).fit(Xt4, yt4)\n",
        "bag = BaggingClassifier(DecisionTreeClassifier(), n_estimators=50, random_state=42).fit(Xt4, yt4)\n",
        "\n",
        "print(\"Decision Tree Accuracy:\", round(dt.score(Xv4, yv4), 4))\n",
        "print(\"Bagging Classifier Accuracy:\", round(bag.score(Xv4, yv4), 4))"
      ],
      "metadata": {
        "colab": {
          "base_uri": "https://localhost:8080/"
        },
        "id": "cQIRCnsH6_ba",
        "outputId": "f5f7a985-fe5d-4737-f8ef-ba65b4d9a9cd"
      },
      "execution_count": 31,
      "outputs": [
        {
          "output_type": "stream",
          "name": "stdout",
          "text": [
            "Decision Tree Accuracy: 1.0\n",
            "Bagging Classifier Accuracy: 1.0\n"
          ]
        }
      ]
    },
    {
      "cell_type": "code",
      "source": [
        "#35.Train a Random Forest Classifier and visualize the confusion matrix.\n",
        "from sklearn.metrics import confusion_matrix\n",
        "import seaborn as sns\n",
        "import matplotlib.pyplot as plt\n",
        "\n",
        "cm = confusion_matrix(y_test, pred)\n",
        "sns.heatmap(cm, annot=True, fmt='d', cmap='Blues',\n",
        "            xticklabels=data.target_names, yticklabels=data.target_names)\n",
        "plt.title(\"Confusion Matrix\")\n",
        "plt.xlabel(\"Predicted\")\n",
        "plt.ylabel(\"Actual\")\n",
        "plt.show()"
      ],
      "metadata": {
        "colab": {
          "base_uri": "https://localhost:8080/",
          "height": 472
        },
        "id": "sEg-36oR7VD4",
        "outputId": "3668dce0-9bc0-4619-971d-3d1ff5b7238f"
      },
      "execution_count": 34,
      "outputs": [
        {
          "output_type": "display_data",
          "data": {
            "text/plain": [
              "<Figure size 640x480 with 2 Axes>"
            ],
            "image/png": "[encoded data removed]"
          },
          "metadata": {}
        }
      ]
    },
    {
      "cell_type": "code",
      "source": [
        "#36.Train a Stacking Classifier using Decision Trees, SVM, and Logistic Regression, and compare accuracy.\n",
        "from sklearn.ensemble import StackingClassifier\n",
        "estimators = [\n",
        "    ('dt', DecisionTreeClassifier(random_state=42)),\n",
        "    ('svm', SVC(probability=True, random_state=42)),\n",
        "    ('lr', LogisticRegression(max_iter=1000, random_state=42))\n",
        "]\n",
        "stack = StackingClassifier(estimators=estimators, final_estimator=LogisticRegression(), cv=5)\n",
        "stack.fit(X_train, y_train)\n",
        "print(\"Stacking Classifier Accuracy:\", round(stack.score(X_test, y_test), 4))"
      ],
      "metadata": {
        "colab": {
          "base_uri": "https://localhost:8080/"
        },
        "id": "n3nhmjuz7ajs",
        "outputId": "ce833645-102b-4f5b-8235-7e6a061fe7f9"
      },
      "execution_count": 35,
      "outputs": [
        {
          "output_type": "stream",
          "name": "stdout",
          "text": [
            "Stacking Classifier Accuracy: 0.9708\n"
          ]
        }
      ]
    },
    {
      "cell_type": "code",
      "source": [
        "#37.Train a Random Forest Classifier and print the top 5 most important features.\n",
        "rf2 = RandomForestClassifier(n_estimators=100, random_state=42)\n",
        "rf2.fit(X_train, y_train)\n",
        "feat = pd.Series(rf2.feature_importances_, index=data.feature_names).nlargest(5)\n",
        "print(\"Top 5 important features:\\n\", feat)"
      ],
      "metadata": {
        "colab": {
          "base_uri": "https://localhost:8080/"
        },
        "id": "lPXg9xzd7o5R",
        "outputId": "6b639f35-6f0f-4dde-98b4-7bd21e39b3b7"
      },
      "execution_count": 36,
      "outputs": [
        {
          "output_type": "stream",
          "name": "stdout",
          "text": [
            "Top 5 important features:\n",
            " mean concave points     0.141934\n",
            "worst concave points    0.127136\n",
            "worst area              0.118217\n",
            "mean concavity          0.080557\n",
            "worst radius            0.077975\n",
            "dtype: float64\n"
          ]
        }
      ]
    },
    {
      "cell_type": "code",
      "source": [
        "#38.Train a Bagging Classifier and evaluate performance using Precision, Recall, and F1-score.\n",
        "from sklearn.metrics import precision_score, recall_score, f1_score\n",
        "from sklearn.ensemble import BaggingClassifier\n",
        "from sklearn.tree import DecisionTreeClassifier\n",
        "\n",
        "bagc = BaggingClassifier(DecisionTreeClassifier(), n_estimators=50, random_state=42)\n",
        "bagc.fit(X_train, y_train)\n",
        "predc = bagc.predict(X_test)\n",
        "print(\"Precision:\", round(precision_score(y_test, predc), 4))\n",
        "print(\"Recall:\", round(recall_score(y_test, predc), 4))\n",
        "print(\"F1-score:\", round(f1_score(y_test, predc), 4))"
      ],
      "metadata": {
        "colab": {
          "base_uri": "https://localhost:8080/"
        },
        "id": "ikRdTGzP7wC1",
        "outputId": "82a61abb-7652-4f21-f7bd-c8add0187ce9"
      },
      "execution_count": 38,
      "outputs": [
        {
          "output_type": "stream",
          "name": "stdout",
          "text": [
            "Precision: 0.9633\n",
            "Recall: 0.9722\n",
            "F1-score: 0.9677\n"
          ]
        }
      ]
    },
    {
      "cell_type": "code",
      "source": [
        "#39.Train a Random Forest Classifier and analyze the effect of max_depth on accuracy.\n",
        "for d in [1, 3, 5, 10, None]:\n",
        "    m = RandomForestClassifier(n_estimators=50, max_depth=d, random_state=42)\n",
        "    m.fit(X_train, y_train)\n",
        "    print(\"max_depth =\", d, \"→ accuracy:\", round(m.score(X_test, y_test), 4))"
      ],
      "metadata": {
        "colab": {
          "base_uri": "https://localhost:8080/"
        },
        "id": "HiZYcAfz704T",
        "outputId": "d1112ad3-e77b-4a1f-f5e1-7571582a9727"
      },
      "execution_count": 39,
      "outputs": [
        {
          "output_type": "stream",
          "name": "stdout",
          "text": [
            "max_depth = 1 → accuracy: 0.9532\n",
            "max_depth = 3 → accuracy: 0.9708\n",
            "max_depth = 5 → accuracy: 0.9649\n",
            "max_depth = 10 → accuracy: 0.9708\n",
            "max_depth = None → accuracy: 0.9708\n"
          ]
        }
      ]
    },
    {
      "cell_type": "code",
      "source": [
        "#40.Train a Bagging Regressor using different base estimators (DecisionTree and KNeighbors) and compare performance.\n",
        "from sklearn.neighbors import KNeighborsRegressor\n",
        "Xtr, Xte, ytr, yte = train_test_split(housing.data, housing.target, test_size=0.3, random_state=42)\n",
        "for est in (DecisionTreeRegressor(), KNeighborsRegressor()):\n",
        "    bag = BaggingRegressor(estimator=est, n_estimators=50, random_state=42)\n",
        "    bag.fit(Xtr, ytr)\n",
        "    mse = mean_squared_error(yte, bag.predict(Xte))\n",
        "    print(f\"{est.__class__.__name__} base → MSE: {round(mse, 4)}\")"
      ],
      "metadata": {
        "colab": {
          "base_uri": "https://localhost:8080/"
        },
        "id": "-kA9CY0H7_Z6",
        "outputId": "947c634c-d69a-437d-b86f-372c90110437"
      },
      "execution_count": 41,
      "outputs": [
        {
          "output_type": "stream",
          "name": "stdout",
          "text": [
            "DecisionTreeRegressor base → MSE: 0.2579\n",
            "KNeighborsRegressor base → MSE: 1.1021\n"
          ]
        }
      ]
    },
    {
      "cell_type": "code",
      "source": [
        "#41. Train a Random Forest Classifier and evaluate its performance using ROC-AUC Score.\n",
        "prob_rf = rfc.predict_proba(X_test)[:, 1]\n",
        "print(\"ROC-AUC:\", round(roc_auc_score(y_test, prob_rf), 4))"
      ],
      "metadata": {
        "colab": {
          "base_uri": "https://localhost:8080/"
        },
        "id": "bNe7H9TS8Ff4",
        "outputId": "9069e236-4c8b-453d-f700-008b03837832"
      },
      "execution_count": 42,
      "outputs": [
        {
          "output_type": "stream",
          "name": "stdout",
          "text": [
            "ROC-AUC: 0.9968\n"
          ]
        }
      ]
    },
    {
      "cell_type": "code",
      "source": [
        "#42. Train a Bagging Classifier and evaluate its performance using cross-validatio.\n",
        "from sklearn.model_selection import cross_val_score\n",
        "import numpy as np\n",
        "scores = cross_val_score(bagc, X, y, cv=5, scoring='accuracy')\n",
        "print(\"Cross-val accuracies:\", np.round(scores, 4))\n",
        "print(\"Mean CV accuracy:\", round(scores.mean(), 4))"
      ],
      "metadata": {
        "colab": {
          "base_uri": "https://localhost:8080/"
        },
        "id": "d7BsVip-8Thf",
        "outputId": "be7f3a16-20f9-49f4-e6d2-92daeac4a3f1"
      },
      "execution_count": 45,
      "outputs": [
        {
          "output_type": "stream",
          "name": "stdout",
          "text": [
            "Cross-val accuracies: [0.9123 0.9211 0.9825 0.9561 1.    ]\n",
            "Mean CV accuracy: 0.9544\n"
          ]
        }
      ]
    },
    {
      "cell_type": "code",
      "source": [
        "#43.Train a Random Forest Classifier and plot the Precision-Recall curve.\n",
        "from sklearn.metrics import precision_recall_curve\n",
        "import matplotlib.pyplot as plt\n",
        "\n",
        "prec, rec, _ = precision_recall_curve(y_test, prob_rf)\n",
        "plt.plot(rec, prec)\n",
        "plt.xlabel(\"Recall\")\n",
        "plt.ylabel(\"Precision\")\n",
        "plt.title(\"Precision-Recall Curve\")\n",
        "plt.show()"
      ],
      "metadata": {
        "colab": {
          "base_uri": "https://localhost:8080/",
          "height": 472
        },
        "id": "j2se7krb8Yxb",
        "outputId": "2d97022f-90ba-4578-e10a-e0bdfe34e8d5"
      },
      "execution_count": 47,
      "outputs": [
        {
          "output_type": "display_data",
          "data": {
            "text/plain": [
              "<Figure size 640x480 with 1 Axes>"
            ],
            "image/png": "[encoded data removed]"
          },
          "metadata": {}
        }
      ]
    },
    {
      "cell_type": "code",
      "source": [
        "#44.Train a Stacking Classifier with Random Forest and Logistic Regression and compare accuracy.\n",
        "stack2 = StackingClassifier(\n",
        "    estimators=[\n",
        "        ('rf', RandomForestClassifier(n_estimators=50, random_state=42)),\n",
        "        ('lr', LogisticRegression(max_iter=1000, random_state=42))\n",
        "    ],\n",
        "    final_estimator=LogisticRegression()\n",
        ")\n",
        "stack2.fit(X_train, y_train)\n",
        "print(\"Stacking RF+LR Accuracy:\", round(stack2.score(X_test, y_test), 4))"
      ],
      "metadata": {
        "colab": {
          "base_uri": "https://localhost:8080/"
        },
        "id": "qxLVqVg-8pFs",
        "outputId": "e8a74d23-3091-4d3b-f8da-bc61a08538fc"
      },
      "execution_count": 48,
      "outputs": [
        {
          "output_type": "stream",
          "name": "stdout",
          "text": [
            "Stacking RF+LR Accuracy: 0.9708\n"
          ]
        }
      ]
    },
    {
      "cell_type": "code",
      "source": [
        "#45.Train a Bagging Regressor with different levels of bootstrap samples and compare performance.\n",
        "Xtr, Xte, ytr, yte = train_test_split(housing.data, housing.target, test_size=0.3, random_state=42)\n",
        "for bs in [0.5, 0.7, 1.0]:\n",
        "    bag = BaggingRegressor(DecisionTreeRegressor(), n_estimators=50, max_samples=bs, random_state=42)\n",
        "    bag.fit(Xtr, ytr)\n",
        "    mse = mean_squared_error(yte, bag.predict(Xte))\n",
        "    print(f\"max_samples={bs} → MSE: {round(mse, 4)}\")"
      ],
      "metadata": {
        "colab": {
          "base_uri": "https://localhost:8080/"
        },
        "id": "q1XN4wk88zZi",
        "outputId": "4c664e60-5c2d-4483-9eed-f9ab1ca19549"
      },
      "execution_count": 49,
      "outputs": [
        {
          "output_type": "stream",
          "name": "stdout",
          "text": [
            "max_samples=0.5 → MSE: 0.2633\n",
            "max_samples=0.7 → MSE: 0.2621\n",
            "max_samples=1.0 → MSE: 0.2579\n"
          ]
        }
      ]
    }
  ]
}